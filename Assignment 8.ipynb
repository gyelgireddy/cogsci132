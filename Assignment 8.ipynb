{
 "cells": [
  {
   "cell_type": "code",
   "execution_count": 1,
   "metadata": {
    "collapsed": true
   },
   "outputs": [],
   "source": [
    "import numpy as np\n",
    "import matplotlib.pyplot as plt\n",
    "import math"
   ]
  },
  {
   "cell_type": "markdown",
   "metadata": {},
   "source": [
    "# Question 1"
   ]
  },
  {
   "cell_type": "code",
   "execution_count": 2,
   "metadata": {},
   "outputs": [],
   "source": [
    "def likelihood(x, hypothesis):\n",
    "    prob = 1\n",
    "    for i in x:\n",
    "        if i in hypothesis:\n",
    "            prob *= 1/len(hypothesis)\n",
    "        else:\n",
    "            prob = 0\n",
    "    return prob"
   ]
  },
  {
   "cell_type": "markdown",
   "metadata": {},
   "source": [
    "H1(even numbers): Likelihood each hypothesis assigns to each data point in it is 1/50 and likelihood each hypothesis assigns to each data point NOT in it is 0 <br>\n",
    "H2(odd numbers): Likelihood each hypothesis assigns to each data point in it is 1/50 and likelihood each hypothesis assigns to each data point NOT in it is 0 <br>\n",
    "H3(square numbers): Likelihood each hypothesis assigns to each data point in it is 1/10 and likelihood each hypothesis assigns to each data point NOT in it is 0<br>\n",
    "H4(prime numbers): Likelihood each hypothesis assigns to each data point in it is 1/25 and likelihood each hypothesis assigns to each data point NOT in it is 0<br> \n",
    "H5(multiples of 5): Likelihood each hypothesis assigns to each data point in it is 1/20 and likelihood each hypothesis assigns to each data point NOT in it is 0<br> \n",
    "H6(multiples of 10): Likelihood each hypothesis assigns to each data point in it is 1/10 and likelihood each hypothesis assigns to each data point NOT in it is 0<br> \n",
    "H7(All numbers-[1, 2, 3, ... 100]): Likelihood each hypothesis assigns to each data point in it is 1/100 and likelihood each hypothesis assigns to each data point NOT in it is 0<br>\n",
    "\n",
    "General idea: Likelihood each hypothesis assigns to each data point in it is 1/len(H) and likelihood each hypothesis assigns to each datapoint not in it is 0."
   ]
  },
  {
   "cell_type": "markdown",
   "metadata": {},
   "source": [
    "# Question 2"
   ]
  },
  {
   "cell_type": "code",
   "execution_count": 3,
   "metadata": {},
   "outputs": [],
   "source": [
    "def helper(num):\n",
    "    primes = []\n",
    "    for x in range(2, num + 1): \n",
    "        isPrime = True\n",
    "        for num in range(2, int(x ** 0.5) + 1): \n",
    "            if x % num == 0:\n",
    "                isPrime = False\n",
    "                break\n",
    "        if isPrime:\n",
    "            primes.append(x)\n",
    "    return primes"
   ]
  },
  {
   "cell_type": "code",
   "execution_count": 4,
   "metadata": {
    "collapsed": true
   },
   "outputs": [],
   "source": [
    "h1=[i for i in range(1, 101) if i%2 ==0]\n",
    "h2=[i for i in range(1, 101) if i%2 ==1]\n",
    "h3=[i for i in range(1, 101) if int(np.sqrt(i))==np.sqrt(i)]\n",
    "h4=helper(100)\n",
    "h5=[i for i in range(1, 101) if i%5 ==0] \n",
    "h6=[i for i in range(1, 101) if i%10 ==0]\n",
    "h7= [i for i in range(1, 101)]\n",
    "hypothesis=[h1,h2,h3,h4,h5,h6, h7]"
   ]
  },
  {
   "cell_type": "code",
   "execution_count": 5,
   "metadata": {
    "collapsed": true
   },
   "outputs": [],
   "source": [
    "prior = 1/7\n",
    "data1=[]\n",
    "data2=[50]\n",
    "data3=[53]\n",
    "data4=[50,53]\n",
    "data5=[16]\n",
    "data6=[10,20]\n",
    "data7=[2,4,8]\n",
    "data8=[2,4,8,10]"
   ]
  },
  {
   "cell_type": "code",
   "execution_count": 6,
   "metadata": {
    "collapsed": true
   },
   "outputs": [],
   "source": [
    "def hypo_d(x,h):\n",
    "    like = likelihood(x,h)\n",
    "    constant = sum([likelihood(x,h) for h in hypothesis]) * (1/7)\n",
    "    if constant == 0:\n",
    "        return 0\n",
    "    return (1/7*like)/constant\n",
    "def n_data(x,hs):\n",
    "    res=[]\n",
    "    for i in range(1,101): \n",
    "        prob = 0\n",
    "        for h in hs:\n",
    "            if i in h:\n",
    "                prob += 1/7*hypo_d(x,h)\n",
    "        res.append(prob)\n",
    "    return res"
   ]
  },
  {
   "cell_type": "code",
   "execution_count": 26,
   "metadata": {},
   "outputs": [
    {
     "data": {
      "image/png": "[encoded data removed]",
      "text/plain": [
       "<matplotlib.figure.Figure at 0x113f33b00>"
      ]
     },
     "metadata": {},
     "output_type": "display_data"
    }
   ],
   "source": [
    "res=n_data(data1,hypothesis)\n",
    "plt.bar(list(range(1,101)),res)\n",
    "plt.show()"
   ]
  },
  {
   "cell_type": "markdown",
   "metadata": {},
   "source": [
    "There's no data in the dataset so plot is showing probability of the numbers 1 to 100 are in the concept"
   ]
  },
  {
   "cell_type": "code",
   "execution_count": 8,
   "metadata": {},
   "outputs": [
    {
     "data": {
      "image/png": "[encoded data removed]",
      "text/plain": [
       "<matplotlib.figure.Figure at 0x113830048>"
      ]
     },
     "metadata": {},
     "output_type": "display_data"
    }
   ],
   "source": [
    "res=n_data(data2, hypothesis)\n",
    "plt.bar(list(range(1,101)), res)\n",
    "plt.show()"
   ]
  },
  {
   "cell_type": "markdown",
   "metadata": {},
   "source": [
    "The dataset [50] satisfied hypothesis 1,5,6 so the plot has high values at multiples of 5, 10, 20."
   ]
  },
  {
   "cell_type": "code",
   "execution_count": 9,
   "metadata": {},
   "outputs": [
    {
     "data": {
      "image/png": "[encoded data removed]",
      "text/plain": [
       "<matplotlib.figure.Figure at 0x113830fd0>"
      ]
     },
     "metadata": {},
     "output_type": "display_data"
    }
   ],
   "source": [
    "res=n_data(data3, hypothesis)\n",
    "plt.bar(list(range(1,101)), res)\n",
    "plt.show()"
   ]
  },
  {
   "cell_type": "markdown",
   "metadata": {},
   "source": [
    "Data [53] satisfies hypothesis 2,4 because it is prime and odd"
   ]
  },
  {
   "cell_type": "code",
   "execution_count": 10,
   "metadata": {
    "scrolled": true
   },
   "outputs": [
    {
     "data": {
      "image/png": "[encoded data removed]",
      "text/plain": [
       "<matplotlib.figure.Figure at 0x113e4acc0>"
      ]
     },
     "metadata": {},
     "output_type": "display_data"
    }
   ],
   "source": [
    "res=n_data(data4, hypothesis)\n",
    "plt.bar(list(range(1,101)), res)\n",
    "plt.show()"
   ]
  },
  {
   "cell_type": "markdown",
   "metadata": {},
   "source": [
    "Data [50,53] satisfies hypothesis 7 because that is the only way these 2 numbers can be together."
   ]
  },
  {
   "cell_type": "code",
   "execution_count": 11,
   "metadata": {},
   "outputs": [
    {
     "data": {
      "image/png": "[encoded data removed]",
      "text/plain": [
       "<matplotlib.figure.Figure at 0x113cf8208>"
      ]
     },
     "metadata": {},
     "output_type": "display_data"
    }
   ],
   "source": [
    "res=n_data(data5, hypothesis)\n",
    "plt.bar(list(range(1,101)), res)\n",
    "plt.show()"
   ]
  },
  {
   "cell_type": "markdown",
   "metadata": {},
   "source": [
    "Data [16] satisfies hypothesis 1,3 because it is even and square. So by intuition sqaure numbers are the right answers"
   ]
  },
  {
   "cell_type": "code",
   "execution_count": 12,
   "metadata": {},
   "outputs": [
    {
     "data": {
      "image/png": "[encoded data removed]",
      "text/plain": [
       "<matplotlib.figure.Figure at 0x113db62b0>"
      ]
     },
     "metadata": {},
     "output_type": "display_data"
    }
   ],
   "source": [
    "res=n_data(data6, hypothesis)\n",
    "plt.bar(list(range(1,101)), res)\n",
    "plt.show()"
   ]
  },
  {
   "cell_type": "markdown",
   "metadata": {},
   "source": [
    "Data [10,20] satisfies hypothesis 1,5,6 because they are multiples of 5, 10 so by intuition the numbers that go by 10s are the right answers."
   ]
  },
  {
   "cell_type": "code",
   "execution_count": 13,
   "metadata": {},
   "outputs": [
    {
     "data": {
      "image/png": "[encoded data removed]",
      "text/plain": [
       "<matplotlib.figure.Figure at 0x113adb978>"
      ]
     },
     "metadata": {},
     "output_type": "display_data"
    }
   ],
   "source": [
    "res=n_data(data7, hypothesis)\n",
    "plt.bar(list(range(1,101)), res)\n",
    "plt.show()"
   ]
  },
  {
   "cell_type": "markdown",
   "metadata": {},
   "source": [
    "Data [2,4,8] satisfies hypothesis 1 so by intution the right answers are even numbers."
   ]
  },
  {
   "cell_type": "code",
   "execution_count": 14,
   "metadata": {},
   "outputs": [
    {
     "data": {
      "image/png": "[encoded data removed]",
      "text/plain": [
       "<matplotlib.figure.Figure at 0x11379a828>"
      ]
     },
     "metadata": {},
     "output_type": "display_data"
    }
   ],
   "source": [
    "res=n_data(data8, hypothesis)\n",
    "plt.bar(list(range(1,101)), res)\n",
    "plt.show()"
   ]
  },
  {
   "cell_type": "markdown",
   "metadata": {},
   "source": [
    "Data [2,4,8,10] satisfies hypothesis 1 do by intution the right answers are even numbers."
   ]
  },
  {
   "cell_type": "markdown",
   "metadata": {},
   "source": [
    "# Question 3"
   ]
  },
  {
   "cell_type": "code",
   "execution_count": 73,
   "metadata": {
    "collapsed": true
   },
   "outputs": [],
   "source": [
    "intervals=[]\n",
    "for i in range(1,101):\n",
    "    for j in range(i+1,101):\n",
    "        intervals.append(list(range(i,j)))"
   ]
  },
  {
   "cell_type": "code",
   "execution_count": 76,
   "metadata": {},
   "outputs": [],
   "source": [
    "hypothesis = hypothesis+intervals\n",
    "def hypo_d(x, h):\n",
    "    prior = 1/8\n",
    "    if h in hypothesis[:6]:\n",
    "        like = likelihood(x,h)\n",
    "    else:\n",
    "        like = likelihood(x,h)*1/4950\n",
    "    constant = sum([likelihood(x,h) for h in hypothesis[6:]])*prior+sum([likelihood(x,h) for h in hypothesis[6:]])*prior*1/4950\n",
    "    if constant == 0:\n",
    "        return 0\n",
    "    return prior*like/constant\n",
    "\n",
    "def n_data(x,hs):\n",
    "    res=[]\n",
    "    for i in range(1,101): \n",
    "        prob = 0\n",
    "        for h in hs:\n",
    "            if i in h:\n",
    "                prob += 1/8*hypo_d(x,h)\n",
    "        res.append(prob)\n",
    "    return res"
   ]
  },
  {
   "cell_type": "code",
   "execution_count": 17,
   "metadata": {},
   "outputs": [
    {
     "data": {
      "image/png": "[encoded data removed]",
      "text/plain": [
       "<matplotlib.figure.Figure at 0x113e5feb8>"
      ]
     },
     "metadata": {},
     "output_type": "display_data"
    }
   ],
   "source": [
    "res=n_data(data1,hypothesis)\n",
    "plt.bar(list(range(1,101)),res)   \n",
    "plt.show()"
   ]
  },
  {
   "cell_type": "markdown",
   "metadata": {},
   "source": [
    "There's no data in the dataset so all of the numbers 1...100 are not in the concept"
   ]
  },
  {
   "cell_type": "code",
   "execution_count": 18,
   "metadata": {},
   "outputs": [
    {
     "data": {
      "image/png": "[encoded data removed]",
      "text/plain": [
       "<matplotlib.figure.Figure at 0x113a10c88>"
      ]
     },
     "metadata": {},
     "output_type": "display_data"
    }
   ],
   "source": [
    "res=n_data(data2,hypothesis)\n",
    "plt.bar(list(range(1,101)),res)   \n",
    "plt.show()"
   ]
  },
  {
   "cell_type": "markdown",
   "metadata": {},
   "source": [
    "Data [50] satisfies the modified hypothesis better and shows that the right answers are multiple of 5 so number closer to 50 is more likely to be in the concept."
   ]
  },
  {
   "cell_type": "code",
   "execution_count": 19,
   "metadata": {},
   "outputs": [
    {
     "data": {
      "image/png": "[encoded data removed]",
      "text/plain": [
       "<matplotlib.figure.Figure at 0x1136f7358>"
      ]
     },
     "metadata": {},
     "output_type": "display_data"
    }
   ],
   "source": [
    "res=n_data(data3,hypothesis)\n",
    "plt.bar(list(range(1,101)),res)   \n",
    "plt.show()"
   ]
  },
  {
   "cell_type": "markdown",
   "metadata": {},
   "source": [
    "Data [53] satisfies hypothesis 4 but don't think it better matches my intuition."
   ]
  },
  {
   "cell_type": "code",
   "execution_count": 20,
   "metadata": {},
   "outputs": [
    {
     "data": {
      "image/png": "[encoded data removed]",
      "text/plain": [
       "<matplotlib.figure.Figure at 0x11367e898>"
      ]
     },
     "metadata": {},
     "output_type": "display_data"
    }
   ],
   "source": [
    "res=n_data(data4,hypothesis)\n",
    "plt.bar(list(range(1,101)),res)   \n",
    "plt.show()"
   ]
  },
  {
   "cell_type": "markdown",
   "metadata": {},
   "source": [
    "Data [50, 53] satisifes hypothesis 7 as the intution is that the range is pretty big and contains large amount of numbers."
   ]
  },
  {
   "cell_type": "code",
   "execution_count": 21,
   "metadata": {},
   "outputs": [
    {
     "data": {
      "image/png": "[encoded data removed]",
      "text/plain": [
       "<matplotlib.figure.Figure at 0x11378fdd8>"
      ]
     },
     "metadata": {},
     "output_type": "display_data"
    }
   ],
   "source": [
    "res=n_data(data5,hypothesis)\n",
    "plt.bar(list(range(1,101)),res)   \n",
    "plt.show()"
   ]
  },
  {
   "cell_type": "markdown",
   "metadata": {},
   "source": [
    "Data [16] satisfies hypothesis 3 for square numbers and the modified hypothesis has little improvement so by intuiton square numbers are right answers."
   ]
  },
  {
   "cell_type": "code",
   "execution_count": 22,
   "metadata": {},
   "outputs": [
    {
     "data": {
      "image/png": "[encoded data removed]",
      "text/plain": [
       "<matplotlib.figure.Figure at 0x114070278>"
      ]
     },
     "metadata": {},
     "output_type": "display_data"
    }
   ],
   "source": [
    "res=n_data(data6,hypothesis)\n",
    "plt.bar(list(range(1,101)),res)   \n",
    "plt.show()"
   ]
  },
  {
   "cell_type": "markdown",
   "metadata": {},
   "source": [
    "Data [10,20] satisfies hypothesis 1,5,6 and the modified hypthosis is similar to the previous version. By intuition, the right answers are multiples of ten."
   ]
  },
  {
   "cell_type": "code",
   "execution_count": 23,
   "metadata": {},
   "outputs": [
    {
     "data": {
      "image/png": "[encoded data removed]",
      "text/plain": [
       "<matplotlib.figure.Figure at 0x113a59dd8>"
      ]
     },
     "metadata": {},
     "output_type": "display_data"
    }
   ],
   "source": [
    "res=n_data(data7,hypothesis)\n",
    "plt.bar(list(range(1,101)),res)   \n",
    "plt.show()"
   ]
  },
  {
   "cell_type": "markdown",
   "metadata": {},
   "source": [
    "Data [2,4,8] still satisfies hypothesis 1 but the modified hypothesis better matches my intuiton as the right answers are smaller even numbers."
   ]
  },
  {
   "cell_type": "code",
   "execution_count": 24,
   "metadata": {},
   "outputs": [
    {
     "data": {
      "image/png": "[encoded data removed]",
      "text/plain": [
       "<matplotlib.figure.Figure at 0x1140b9a20>"
      ]
     },
     "metadata": {},
     "output_type": "display_data"
    }
   ],
   "source": [
    "res=n_data(data8,hypothesis)\n",
    "plt.bar(list(range(1,101)),res)   \n",
    "plt.show()"
   ]
  },
  {
   "cell_type": "markdown",
   "metadata": {},
   "source": [
    "Data [2,4,8,10] still satisfies hypothesis 1 but the modified hypothesis better matches my intuiton as the right answers are smaller even numbers."
   ]
  }
 ],
 "metadata": {
  "kernelspec": {
   "display_name": "Python 3",
   "language": "python",
   "name": "python3"
  },
  "language_info": {
   "codemirror_mode": {
    "name": "ipython",
    "version": 3
   },
   "file_extension": ".py",
   "mimetype": "text/x-python",
   "name": "python",
   "nbconvert_exporter": "python",
   "pygments_lexer": "ipython3",
   "version": "3.6.3"
  }
 },
 "nbformat": 4,
 "nbformat_minor": 2
}
