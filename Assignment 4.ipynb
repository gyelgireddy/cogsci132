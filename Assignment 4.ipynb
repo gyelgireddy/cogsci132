{
 "cells": [
  {
   "cell_type": "markdown",
   "metadata": {},
   "source": [
    "# ELIZA"
   ]
  },
  {
   "cell_type": "code",
   "execution_count": 2,
   "metadata": {
    "collapsed": true
   },
   "outputs": [],
   "source": [
    "import numpy as np\n",
    "import matplotlib.pyplot as plt\n",
    "import math\n",
    "import re\n",
    "import random\n",
    "import sys"
   ]
  },
  {
   "cell_type": "markdown",
   "metadata": {},
   "source": [
    "# Question 1"
   ]
  },
  {
   "cell_type": "code",
   "execution_count": null,
   "metadata": {
    "collapsed": true
   },
   "outputs": [],
   "source": [
    "def throwbacksongs():\n",
    "    return random.choice([\"Tik Tok\",\"Crazy in Love\",\"Yeah\",\"Get Low\",\"Beautiful Girls\",\"Replay\",\"Party in the USA\",\n",
    "                          \"A Thousand Miles\"])\n",
    "\n",
    "def music():\n",
    "    genre=[\"Pop\",\"Rock\",\"HipHop\",\"Rap\",\"Indie\",\"RnB\",\"Country\",\"Classical\",\"Folk\"]\n",
    "    speed=[\"slow\",\"fast\",\"soft\",\"hard\"]\n",
    "    artists=[\"Taylor Swift\",\"Post Malone\", \"Beyonce\",\"Tyga\",\"Billy Ray Cyrus\", \"Justin Bieber\",\"Bruno Mars\",\"Lizzo\",\n",
    "             \"Adele\",\"Rihanna\",\"Eminem\"]\n",
    "    starterQ = [\"Do you like \"+ throwbacksongs()+\"?\",\n",
    "                \"What \"+ random.choice(genre)+\" music do you like best?\",\n",
    "                \"Do you like \"+ random.choice(speed)+\" music?\",\n",
    "                \"What are your thoughts about \"+ random.choice(artists)+\"?\"]\n",
    "    return random.choice(starterQ)\n",
    "\n",
    "def fillers(): #When ELIZA doesn't know something concrete to say or any related information, these are fillers\n",
    "    boringConvo=[\"Yeah!\",\"Ofcourse\",\"No way\",\"That's okay\",\"For sure\",\"woahhh\",\"Sorry, I don't know\",\"I do\",\n",
    "                 \"Continue\",\"I agree\"]\n",
    "    result = random.choice(boringConvo)\n",
    "    return result\n",
    "\n",
    "def interesting(): #general comment that can be used anywhere\n",
    "    return \"Interesting, keep going.\"\n",
    "\n",
    "def ELIZAbot(userInp):\n",
    "    if re.search('bye',userInp) or re.search('see you later',userInp): #End the conversation when we see \"bye\"\n",
    "        print(\"ELIZA :: Bye, I will see you next time!\")\n",
    "        sys.exit()\n",
    "    \n",
    "    else if len(userInp)<10 and not re.match(\"i\",userInp):\n",
    "        reply = fillers()+\"and \"+ music()\n",
    "    \n",
    "    else if ((re.search(\"like\",userInp) or re.search(\"love\",userInp)) and (re.match(\"what\",userInp))):\n",
    "        if re.search(\"what (.+?) do\",userInp):\n",
    "            next=re.search(\"what (.+?) do\",userInp).groups()[0]\n",
    "            reply = \"The \" + next + \" I like most is \" + throwbacksongs()\n",
    "        else:\n",
    "            reply=\"I love \"+ throwbacksongs()       \n",
    "    \n",
    "    else if re.match(\"what\\?\",userInp) or re.match(\"\\?\",userInp):\n",
    "        reply=\"I really do love it so much.\"    \n",
    "    \n",
    "    else if (re.search(\"i like\",userInp) or re.search(\"i love\",userInp)) and not (re.search(\"\\?\",userInp)):\n",
    "        if re.search(\"i like \",userInp):\n",
    "            val = re.search(\"i like (.+).\", userInp).groups()[0]\n",
    "        else:\n",
    "            val = re.search(\"i love (.+).\", userInp).groups()[0]\n",
    "        val = [interesting() + \"about \" + val + \"!\",\"I like \"+ val +\" too!\",\n",
    "                   \"Why do you love \"+ val +\"?\"]\n",
    "        reply=random.choice(nextreply)\n",
    "    \n",
    "    else if (re.search(\"what\",userInp) or re.search(\"how\",userInp) or re.search(\"like\",userInp)) \n",
    "            and re.search(\"\\?\",userInp): #Questions\n",
    "            if re.search(\"like\",userInp):\n",
    "                val = re.search(r\"like (.+)\\?\", userInp).groups()[0]\n",
    "            else if re.search(\"how about\",userInp):\n",
    "                val = re.search(r\"how about (.+)\\?\", userInp).groups()[0]\n",
    "            else if re.search(\"what about\",userInp):\n",
    "                val = re.search(r\"what about (.+)\\?\", userInp).groups()[0]\n",
    "            else if re.search(\"do you think of\", userInp):\n",
    "                val = re.search(r\"think of (.+)\\?\", inp).groups()[0]\n",
    "            else:\n",
    "                feeling=[\"I love \"+ val +\".\",\"I used to love\" + val, \"but I do not like it now.\"]\n",
    "                reply=random.choice(feeling)\n",
    "            if not val:\n",
    "                reply=fillers() #Almost end of conversation\n",
    "    \n",
    "    else if re.search(\"think\", userInp) or re.search(\"i guess\", userInp):\n",
    "            reply=\"Why do you think so?\"\n",
    "    else:\n",
    "        randRes = random.random() #Random\n",
    "        if randRes > 0.7:\n",
    "            response=fillers()+\" \"+ random.choice([\"Hmmm... \"+ music(),\"and\" + music()])\n",
    "        elif randRes <= 0.7 and rand >= 0.6:\n",
    "            response=interesting()+\"!\"\n",
    "        else:\n",
    "            response=fillers()\n",
    "    print(\"ELIZA: \"+reply)\n",
    "\n",
    "if re.search('hi',userInp) or re.search('hello',userInp):\n",
    "    print(\"ELIZA: Do you like music?\")\n",
    "\n",
    "while not (re.search('hi',userInp) or re.search('hello',userInp)):\n",
    "    ELIZAbot(userInp)\n",
    "\n",
    "while True:\n",
    "    userInp=input(\"Geethika: \")\n",
    "    ELIZAbot(userInp)\n",
    "    \n",
    "print(\"ELIZA: Hello, Geethika.\")\n",
    "inp=input(\"Geethika: \").lower()"
   ]
  },
  {
   "cell_type": "markdown",
   "metadata": {},
   "source": [
    "This homework assignment was challenging but fun. I decided to train my ELIZA chatbot on music and different genres and artists so the conversation centered around what type music we liked to listen to. I had lists of music genres, throwback songs, artists, and speed of music and based the matching on those factors."
   ]
  },
  {
   "cell_type": "markdown",
   "metadata": {},
   "source": [
    "# Question 2"
   ]
  },
  {
   "cell_type": "markdown",
   "metadata": {},
   "source": [
    "I talk with ELIZA"
   ]
  },
  {
   "cell_type": "raw",
   "metadata": {},
   "source": [
    "ELIZA: Hello, Geethika.\n",
    "Geethika: Hi, ELIZA.\n",
    "ELIZA: Do you like music?\n",
    "Geethika: Ya, I love music!\n",
    "ELIZA: What Pop music do you like?\n",
    "Geethika: I like Taylor Swift.\n",
    "ELIZA: Interesting, keep going.\n",
    "Geethika: I guess, I like Rap music too.\n",
    "ELIZA: Why think so?\n",
    "Geethika: It is really fast.\n",
    "ELIZA: woahhh\n",
    "Geethika: Now i like RnB\n",
    "ELIZA: Why do you love RnB?\n",
    "Geethika: Because it is really smooth and also has good rhythm. \n",
    "ELIZA: Continue\n",
    "Geethika: I used to only love Hip Hop and Rap but I think RnB is a good combination of both\n",
    "ELIZA: No way\n",
    "Geethika: What music do you like?\n",
    "ELIZA: I like Country music.\n",
    "Geethika: WOah really? Do you like Old Town Road?\n",
    "ELIZA: The music i like most is A Thousand Miles.\n",
    "Geethika: Oh that's cool, I like that song too!\n",
    "ELIZA: Do you think of Folk music?\n",
    "Geethika: not really, i never heard it. Do you have an idea of folk music\n",
    "ELIZA: I love Folk music!\n",
    "Geethika: I think I have to go now ELIZA, thanks for talking to me. \n",
    "ELIZA: Do you like Classical music?\n",
    "Geethika: Bye ELIZA!\n",
    "ELIZA: Bye, I will see you next time!"
   ]
  },
  {
   "cell_type": "markdown",
   "metadata": {},
   "source": [
    "Friend talks with ELIZA"
   ]
  },
  {
   "cell_type": "raw",
   "metadata": {},
   "source": [
    "ELIZA: Hello, Geethika.\n",
    "Geethika: Hey ELIZA!\n",
    "ELIZA: Do you like music?\n",
    "Geethika: I do not like music\n",
    "ELIZA: No way\n",
    "Geethika: Do you like music?\n",
    "ELIZA: The music i like most is Get Low.\n",
    "Geethika: Woah so you like Rap music.\n",
    "ELIZA: How about folk music?\n",
    "Geethika: No way, I hate folk music.\n",
    "ELIZA: How about Indie music?\n",
    "Geethika: I do not like that music either.\n",
    "ELIZA: Interesting, keep going.\n",
    "Geethika: I am bored.\n",
    "ELIZA: Interesting, keep going.\n",
    "Geethika: I love Lizzo.\n",
    "ELIZA: Why do you love Lizzo.\n",
    "Geethika: I think it is because her songs are catchy.\n",
    "ELIZA: Why do you think so?\n",
    "Geethika: I like the lyrics, sometimes they are relatable.\n",
    "ELIZA: Sorry, I don't know.\n",
    "Geethika: Why do you not know?\n",
    "ELIZA: I do.\n",
    "Geethika: What! You just said you do not know.\n",
    "ELIZA: That's okay.\n",
    "Geethika: Do you like music?\n",
    "ELIZA: I like Eminem.\n",
    "Geethika: I love talking to you, but i have class now.\n",
    "ELIZA: Why do you like talking to you?\n",
    "Geethika: See you later ELIZA!\n",
    "ELIZA: Bye, I will see you next time!"
   ]
  },
  {
   "cell_type": "markdown",
   "metadata": {},
   "source": [
    "My friend was impressed by the chatbot and how it was able to hold a conversation and respond to different inputs."
   ]
  },
  {
   "cell_type": "markdown",
   "metadata": {},
   "source": [
    "# Question 3"
   ]
  },
  {
   "cell_type": "markdown",
   "metadata": {},
   "source": [
    "To improve performance of ELIZA, I can add a learning aspect, where the chatbot remembers and can reflect on past conversations/key words to direct a conversation a certain way. I can also connect to an online dictionary to get definitions and descriptions of unknown words and phrases automatically so ELIZA can respond more appropriately."
   ]
  },
  {
   "cell_type": "markdown",
   "metadata": {},
   "source": [
    "# Question 4"
   ]
  },
  {
   "cell_type": "markdown",
   "metadata": {},
   "source": [
    "I think a hard sentence for ELIZA to perform on would be a tongue twister where the sentence contains almost similar words in a tricky order, causing ELIZA to struggle when trying to understand the meaning. EX: \"How much wood would a woodchuck chuck if a woodchuck could chuck wood?\""
   ]
  }
 ],
 "metadata": {
  "kernelspec": {
   "display_name": "Python 3",
   "language": "python",
   "name": "python3"
  },
  "language_info": {
   "codemirror_mode": {
    "name": "ipython",
    "version": 3
   },
   "file_extension": ".py",
   "mimetype": "text/x-python",
   "name": "python",
   "nbconvert_exporter": "python",
   "pygments_lexer": "ipython3",
   "version": "3.6.3"
  }
 },
 "nbformat": 4,
 "nbformat_minor": 2
}
