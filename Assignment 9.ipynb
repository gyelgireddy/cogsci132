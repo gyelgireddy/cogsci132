{
 "cells": [
  {
   "cell_type": "code",
   "execution_count": 31,
   "metadata": {
    "collapsed": true
   },
   "outputs": [],
   "source": [
    "import numpy as np\n",
    "from math import log, sqrt\n",
    "import matplotlib.pyplot as plt\n",
    "import scipy.stats\n",
    "import pandas as pd\n",
    "import random"
   ]
  },
  {
   "cell_type": "markdown",
   "metadata": {},
   "source": [
    "# Question 1"
   ]
  },
  {
   "cell_type": "markdown",
   "metadata": {},
   "source": [
    "Originally prior is in exponential form and posterior is in the multiplicative form. We need functions that compute the logarithm of the prior and logarithm of the posterior because then prior in the summation form and posterior as a constant is easier to calculate so it saves time."
   ]
  },
  {
   "cell_type": "markdown",
   "metadata": {},
   "source": [
    "# Question 2"
   ]
  },
  {
   "cell_type": "markdown",
   "metadata": {},
   "source": [
    "The form of the acceptance ratio P(W'|D)/P(W|D) is convenient because the Bayesian formula of conditional probbaility for P(W'|D) and P(W|D) both have the same denominator. And when we take the ratio P(W'|D)/P(W|D), the denominators will cancel out and so we don't have to actually calculate the integral part."
   ]
  },
  {
   "cell_type": "markdown",
   "metadata": {},
   "source": [
    "# Question 3"
   ]
  },
  {
   "cell_type": "code",
   "execution_count": 32,
   "metadata": {
    "collapsed": true
   },
   "outputs": [],
   "source": [
    "def log_likelihood(n1, n2, a, W): \n",
    "    # this function takes a numpy array for n1, n2, and the accuracy (0/1), whetherthey answerd correctly    \n",
    "    # as well as W (the hypothesis)    \n",
    "    # and returns the *log* likelihood of the responses, log P(accuracy | n1, n2, W)    \n",
    "    \n",
    "    assert(len(n1) == len(n2) == len(a))    \n",
    "    p = 1.0-scipy.stats.norm.cdf(0, loc=np.abs(n1-n2), scale=W*np.sqrt(n1**2 + n2**2)) \n",
    "    # the probability of answering correctly    \n",
    "    return np.sum(np.where(a, np.log(p), np.log(1.0-p)))"
   ]
  },
  {
   "cell_type": "code",
   "execution_count": 33,
   "metadata": {
    "collapsed": true
   },
   "outputs": [],
   "source": [
    "data = pd.read_csv('Assignment9-data.csv')"
   ]
  },
  {
   "cell_type": "code",
   "execution_count": 34,
   "metadata": {
    "collapsed": true
   },
   "outputs": [],
   "source": [
    "def log_prior(w):\n",
    "    if w < 0:\n",
    "        return float('-inf')\n",
    "    else:\n",
    "        return np.log(np.exp(-w))\n",
    "\n",
    "def log_posterior(w, data):\n",
    "    n1 = data['n1']\n",
    "    n2 = data['n2']\n",
    "    correct = data['correct']\n",
    "    return log_prior(w)+log_likelihood(n1, n2, correct, w)"
   ]
  },
  {
   "cell_type": "markdown",
   "metadata": {},
   "source": [
    "When W<0, it should return float(-inf)"
   ]
  },
  {
   "cell_type": "markdown",
   "metadata": {
    "collapsed": true
   },
   "source": [
    "# Question 4"
   ]
  },
  {
   "cell_type": "code",
   "execution_count": 318,
   "metadata": {
    "collapsed": true
   },
   "outputs": [],
   "source": [
    "def run_MH(steps, data, step_length=0.05):\n",
    "    w_samples = []\n",
    "    posterior_samples = []\n",
    "    curr_w =np.random.randn()\n",
    "    curr_post = log_posterior(curr_w,data)\n",
    "    for step in range(steps):\n",
    "        prop_w = curr_w + np.random.randn()*step_length\n",
    "        prop_post = log_posterior(prop_w,data)\n",
    "        if ((prop_post > curr_post) or (np.exp(prop_post-curr_post) > random.random())): \n",
    "            curr_w = prop_w\n",
    "            curr_post = prop_post\n",
    "        w_samples.append(curr_w)\n",
    "        posterior_samples.append(curr_post)\n",
    "    return w_samples, posterior_samples"
   ]
  },
  {
   "cell_type": "code",
   "execution_count": 319,
   "metadata": {},
   "outputs": [],
   "source": [
    "w_samples, posterior_samples = run_MH(300,data)"
   ]
  },
  {
   "cell_type": "markdown",
   "metadata": {},
   "source": [
    "# 4a."
   ]
  },
  {
   "cell_type": "code",
   "execution_count": 63,
   "metadata": {},
   "outputs": [
    {
     "data": {
      "image/png": "[encoded data removed]",
      "text/plain": [
       "<matplotlib.figure.Figure at 0x1135aac18>"
      ]
     },
     "metadata": {},
     "output_type": "display_data"
    }
   ],
   "source": [
    "plt.figure()\n",
    "plt.xlabel(\"Step\", size=20)\n",
    "plt.ylabel(\"posterior\", size=20)\n",
    "plt.plot(list(range(300)),posterior_samples)\n",
    "plt.show()"
   ]
  },
  {
   "cell_type": "markdown",
   "metadata": {},
   "source": [
    "# 4b."
   ]
  },
  {
   "cell_type": "code",
   "execution_count": 62,
   "metadata": {},
   "outputs": [
    {
     "data": {
      "image/png": "[encoded data removed]",
      "text/plain": [
       "<matplotlib.figure.Figure at 0x11349da58>"
      ]
     },
     "metadata": {},
     "output_type": "display_data"
    }
   ],
   "source": [
    "plt.figure()\n",
    "plt.xlabel(\"Step\", size=20)\n",
    "plt.ylabel(\"w\", size=20)\n",
    "plt.plot(list(range(300)),w_samples)\n",
    "plt.show()"
   ]
  },
  {
   "cell_type": "markdown",
   "metadata": {},
   "source": [
    "# 4c."
   ]
  },
  {
   "cell_type": "code",
   "execution_count": 298,
   "metadata": {
    "collapsed": true
   },
   "outputs": [],
   "source": [
    "w_samples,posterior_samples = run_MH(10000,data,0.001)"
   ]
  },
  {
   "cell_type": "code",
   "execution_count": 299,
   "metadata": {
    "collapsed": true
   },
   "outputs": [],
   "source": [
    "w_samples,posterior_samples = w_samples[1000:],posterior_samples[1000:]"
   ]
  },
  {
   "cell_type": "code",
   "execution_count": 300,
   "metadata": {},
   "outputs": [
    {
     "data": {
      "image/png": "[encoded data removed]",
      "text/plain": [
       "<matplotlib.figure.Figure at 0x113389278>"
      ]
     },
     "metadata": {},
     "output_type": "display_data"
    }
   ],
   "source": [
    "plt.hist(w_samples, normed = True)\n",
    "plt.xlabel(\"w\", size=20)\n",
    "plt.show()"
   ]
  },
  {
   "cell_type": "markdown",
   "metadata": {},
   "source": [
    "# Question 5"
   ]
  },
  {
   "cell_type": "code",
   "execution_count": 324,
   "metadata": {},
   "outputs": [],
   "source": [
    "w_samples,posterior_samples = run_MH(10000,data,0.001)"
   ]
  },
  {
   "cell_type": "code",
   "execution_count": 325,
   "metadata": {},
   "outputs": [
    {
     "name": "stdout",
     "output_type": "stream",
     "text": [
      "the probability of w falling into [0.6,0.65] is 0.7889\n"
     ]
    }
   ],
   "source": [
    "count=0\n",
    "for w in w_samples:\n",
    "    if ((w>0.6) and (w<0.65)): \n",
    "        count+=1\n",
    "print('the probability of w falling into [0.6,0.65] is', count/10000)"
   ]
  },
  {
   "cell_type": "markdown",
   "metadata": {},
   "source": [
    "# Question 6"
   ]
  },
  {
   "cell_type": "code",
   "execution_count": 303,
   "metadata": {},
   "outputs": [],
   "source": [
    "def run_MH_prior(steps, step_length=0.05):\n",
    "    wp_samples = []\n",
    "    prior_samples = []\n",
    "    curr_w =np.random.randn()\n",
    "    curr_prior = log_prior(curr_w)\n",
    "    for step in range(steps):\n",
    "        prop_w = curr_w + np.random.randn()*step_length\n",
    "        prop_prior = log_prior(prop_w)\n",
    "        if ((prop_prior > curr_prior) or (np.exp(prop_prior-curr_prior) > random.random())): \n",
    "            curr_w = prop_w\n",
    "            curr_prior = prop_prior\n",
    "        wp_samples.append(curr_w)\n",
    "        prior_samples.append(curr_prior)\n",
    "    return wp_samples, prior_samples"
   ]
  },
  {
   "cell_type": "code",
   "execution_count": 160,
   "metadata": {},
   "outputs": [],
   "source": [
    "wp_samples,prior_samples = run_MH_prior(10000,0.001)"
   ]
  },
  {
   "cell_type": "code",
   "execution_count": 161,
   "metadata": {
    "collapsed": true
   },
   "outputs": [],
   "source": [
    "wp_samples,prior_samples = wp_samples[1000:],prior_samples[1000:]"
   ]
  },
  {
   "cell_type": "code",
   "execution_count": 171,
   "metadata": {},
   "outputs": [
    {
     "data": {
      "image/png": "[encoded data removed]",
      "text/plain": [
       "<matplotlib.figure.Figure at 0x1138aaa20>"
      ]
     },
     "metadata": {},
     "output_type": "display_data"
    }
   ],
   "source": [
    "plt.hist(w_samples, label=\"posterior samples\")\n",
    "plt.hist(wp_samples, label=\"prior samples\")\n",
    "plt.legend(loc='upper center')\n",
    "\n",
    "plt.xlabel(\"w\", size=20)\n",
    "plt.show()"
   ]
  },
  {
   "cell_type": "markdown",
   "metadata": {},
   "source": [
    "The plot distinguishes between both distributions because the prior is calculated throught the MH function without taking in any data."
   ]
  },
  {
   "cell_type": "markdown",
   "metadata": {},
   "source": [
    "# Question 7"
   ]
  },
  {
   "cell_type": "code",
   "execution_count": 335,
   "metadata": {
    "collapsed": true
   },
   "outputs": [],
   "source": [
    "def run_MH(steps, data, step_length=0.05):\n",
    "    w_samples = []\n",
    "    posterior_samples = []\n",
    "    curr_w =np.random.randn()\n",
    "    curr_post = log_posterior(curr_w,data)\n",
    "    for step in range(steps):\n",
    "        prop_w = curr_w + np.random.randn()*step_length\n",
    "        prop_post = log_posterior(prop_w,data)\n",
    "        if ((prop_post > curr_post) or (np.exp(prop_post-curr_post) > random.random())): \n",
    "            curr_w = prop_w\n",
    "            curr_post = prop_post\n",
    "        w_samples.append(curr_w)\n",
    "    return w_samples"
   ]
  },
  {
   "cell_type": "code",
   "execution_count": 336,
   "metadata": {},
   "outputs": [],
   "source": [
    "w_1000_samples= run_MH(1000,data)"
   ]
  },
  {
   "cell_type": "code",
   "execution_count": 354,
   "metadata": {},
   "outputs": [
    {
     "name": "stderr",
     "output_type": "stream",
     "text": [
      "/Users/gyelgireddy/anaconda/lib/python3.6/site-packages/ipykernel_launcher.py:9: RuntimeWarning: divide by zero encountered in log\n",
      "  if __name__ == '__main__':\n",
      "/Users/gyelgireddy/anaconda/lib/python3.6/site-packages/ipykernel_launcher.py:9: RuntimeWarning: invalid value encountered in double_scalars\n",
      "  if __name__ == '__main__':\n"
     ]
    }
   ],
   "source": [
    "w_10_samples =[]\n",
    "for i in range(100):\n",
    "    w_10_samples.extend(run_MH(10,data))\n",
    "    w_10_average = np.sum(w_10_samples)"
   ]
  },
  {
   "cell_type": "code",
   "execution_count": 355,
   "metadata": {},
   "outputs": [
    {
     "data": {
      "image/png": "[encoded data removed]",
      "text/plain": [
       "<matplotlib.figure.Figure at 0x113eba358>"
      ]
     },
     "metadata": {},
     "output_type": "display_data"
    }
   ],
   "source": [
    "plt.figure()\n",
    "plt.xlabel(\"Step\", size=20)\n",
    "plt.ylabel(\"w\", size=20)\n",
    "plt.plot(list(range(1000)),w_1000_samples,'b', label = \"w sample for 1 chain\")\n",
    "plt.plot(list(range(1000)),w_10_samples,'g', label = \"w sample for 100 chain\")\n",
    "plt.legend(loc = \"lower right\")\n",
    "plt.show()"
   ]
  },
  {
   "cell_type": "markdown",
   "metadata": {},
   "source": [
    "Both simulations are different where the graph with 100 chains of 10 steps is more volatile. I think the measure of goodness is a little off where the graph with 100 chains has more fluctuations"
   ]
  }
 ],
 "metadata": {
  "kernelspec": {
   "display_name": "Python 3",
   "language": "python",
   "name": "python3"
  },
  "language_info": {
   "codemirror_mode": {
    "name": "ipython",
    "version": 3
   },
   "file_extension": ".py",
   "mimetype": "text/x-python",
   "name": "python",
   "nbconvert_exporter": "python",
   "pygments_lexer": "ipython3",
   "version": "3.6.3"
  }
 },
 "nbformat": 4,
 "nbformat_minor": 2
}
